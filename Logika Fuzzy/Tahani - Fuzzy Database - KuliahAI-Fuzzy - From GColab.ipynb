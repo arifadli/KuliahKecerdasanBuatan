{
  "nbformat": 4,
  "nbformat_minor": 5,
  "metadata": {
    "kernelspec": {
      "display_name": "Python 3",
      "language": "python",
      "name": "python3"
    },
    "language_info": {
      "codemirror_mode": {
        "name": "ipython",
        "version": 3
      },
      "file_extension": ".py",
      "mimetype": "text/x-python",
      "name": "python",
      "nbconvert_exporter": "python",
      "pygments_lexer": "ipython3",
      "version": "3.8.8"
    },
    "colab": {
      "name": "Tahani - Fuzzy Database - KuliahAI-Fuzzy - From GColab.ipynb",
      "provenance": []
    }
  },
  "cells": [
    {
      "cell_type": "markdown",
      "metadata": {
        "id": "6767bde6"
      },
      "source": [
        "---\n",
        "Kuliah AI Pertemuan Ke-8 (Fuzzy)"
      ],
      "id": "6767bde6"
    },
    {
      "cell_type": "code",
      "metadata": {
        "colab": {
          "base_uri": "https://localhost:8080/"
        },
        "id": "02ea9a31",
        "outputId": "dea8b17a-5c67-4a55-ba1e-4f46f14981d8"
      },
      "source": [
        "#import library\n",
        "import numpy as np\n",
        "import pandas as pd\n",
        "import matplotlib as plt\n",
        "import matplotlib.pyplot as plt\n",
        "!pip install -U scikit-fuzzy\n",
        "import skfuzzy as fuzz\n"
      ],
      "id": "02ea9a31",
      "execution_count": 31,
      "outputs": [
        {
          "output_type": "stream",
          "text": [
            "Requirement already up-to-date: scikit-fuzzy in /usr/local/lib/python3.7/dist-packages (0.4.2)\n",
            "Requirement already satisfied, skipping upgrade: numpy>=1.6.0 in /usr/local/lib/python3.7/dist-packages (from scikit-fuzzy) (1.19.5)\n",
            "Requirement already satisfied, skipping upgrade: networkx>=1.9.0 in /usr/local/lib/python3.7/dist-packages (from scikit-fuzzy) (2.5.1)\n",
            "Requirement already satisfied, skipping upgrade: scipy>=0.9.0 in /usr/local/lib/python3.7/dist-packages (from scikit-fuzzy) (1.4.1)\n",
            "Requirement already satisfied, skipping upgrade: decorator<5,>=4.3 in /usr/local/lib/python3.7/dist-packages (from networkx>=1.9.0->scikit-fuzzy) (4.4.2)\n"
          ],
          "name": "stdout"
        }
      ]
    },
    {
      "cell_type": "code",
      "metadata": {
        "colab": {
          "resources": {
            "http://localhost:8080/nbextensions/google.colab/files.js": {
              "data": "Ly8gQ29weXJpZ2h0IDIwMTcgR29vZ2xlIExMQwovLwovLyBMaWNlbnNlZCB1bmRlciB0aGUgQXBhY2hlIExpY2Vuc2UsIFZlcnNpb24gMi4wICh0aGUgIkxpY2Vuc2UiKTsKLy8geW91IG1heSBub3QgdXNlIHRoaXMgZmlsZSBleGNlcHQgaW4gY29tcGxpYW5jZSB3aXRoIHRoZSBMaWNlbnNlLgovLyBZb3UgbWF5IG9idGFpbiBhIGNvcHkgb2YgdGhlIExpY2Vuc2UgYXQKLy8KLy8gICAgICBodHRwOi8vd3d3LmFwYWNoZS5vcmcvbGljZW5zZXMvTElDRU5TRS0yLjAKLy8KLy8gVW5sZXNzIHJlcXVpcmVkIGJ5IGFwcGxpY2FibGUgbGF3IG9yIGFncmVlZCB0byBpbiB3cml0aW5nLCBzb2Z0d2FyZQovLyBkaXN0cmlidXRlZCB1bmRlciB0aGUgTGljZW5zZSBpcyBkaXN0cmlidXRlZCBvbiBhbiAiQVMgSVMiIEJBU0lTLAovLyBXSVRIT1VUIFdBUlJBTlRJRVMgT1IgQ09ORElUSU9OUyBPRiBBTlkgS0lORCwgZWl0aGVyIGV4cHJlc3Mgb3IgaW1wbGllZC4KLy8gU2VlIHRoZSBMaWNlbnNlIGZvciB0aGUgc3BlY2lmaWMgbGFuZ3VhZ2UgZ292ZXJuaW5nIHBlcm1pc3Npb25zIGFuZAovLyBsaW1pdGF0aW9ucyB1bmRlciB0aGUgTGljZW5zZS4KCi8qKgogKiBAZmlsZW92ZXJ2aWV3IEhlbHBlcnMgZm9yIGdvb2dsZS5jb2xhYiBQeXRob24gbW9kdWxlLgogKi8KKGZ1bmN0aW9uKHNjb3BlKSB7CmZ1bmN0aW9uIHNwYW4odGV4dCwgc3R5bGVBdHRyaWJ1dGVzID0ge30pIHsKICBjb25zdCBlbGVtZW50ID0gZG9jdW1lbnQuY3JlYXRlRWxlbWVudCgnc3BhbicpOwogIGVsZW1lbnQudGV4dENvbnRlbnQgPSB0ZXh0OwogIGZvciAoY29uc3Qga2V5IG9mIE9iamVjdC5rZXlzKHN0eWxlQXR0cmlidXRlcykpIHsKICAgIGVsZW1lbnQuc3R5bGVba2V5XSA9IHN0eWxlQXR0cmlidXRlc1trZXldOwogIH0KICByZXR1cm4gZWxlbWVudDsKfQoKLy8gTWF4IG51bWJlciBvZiBieXRlcyB3aGljaCB3aWxsIGJlIHVwbG9hZGVkIGF0IGEgdGltZS4KY29uc3QgTUFYX1BBWUxPQURfU0laRSA9IDEwMCAqIDEwMjQ7CgpmdW5jdGlvbiBfdXBsb2FkRmlsZXMoaW5wdXRJZCwgb3V0cHV0SWQpIHsKICBjb25zdCBzdGVwcyA9IHVwbG9hZEZpbGVzU3RlcChpbnB1dElkLCBvdXRwdXRJZCk7CiAgY29uc3Qgb3V0cHV0RWxlbWVudCA9IGRvY3VtZW50LmdldEVsZW1lbnRCeUlkKG91dHB1dElkKTsKICAvLyBDYWNoZSBzdGVwcyBvbiB0aGUgb3V0cHV0RWxlbWVudCB0byBtYWtlIGl0IGF2YWlsYWJsZSBmb3IgdGhlIG5leHQgY2FsbAogIC8vIHRvIHVwbG9hZEZpbGVzQ29udGludWUgZnJvbSBQeXRob24uCiAgb3V0cHV0RWxlbWVudC5zdGVwcyA9IHN0ZXBzOwoKICByZXR1cm4gX3VwbG9hZEZpbGVzQ29udGludWUob3V0cHV0SWQpOwp9CgovLyBUaGlzIGlzIHJvdWdobHkgYW4gYXN5bmMgZ2VuZXJhdG9yIChub3Qgc3VwcG9ydGVkIGluIHRoZSBicm93c2VyIHlldCksCi8vIHdoZXJlIHRoZXJlIGFyZSBtdWx0aXBsZSBhc3luY2hyb25vdXMgc3RlcHMgYW5kIHRoZSBQeXRob24gc2lkZSBpcyBnb2luZwovLyB0byBwb2xsIGZvciBjb21wbGV0aW9uIG9mIGVhY2ggc3RlcC4KLy8gVGhpcyB1c2VzIGEgUHJvbWlzZSB0byBibG9jayB0aGUgcHl0aG9uIHNpZGUgb24gY29tcGxldGlvbiBvZiBlYWNoIHN0ZXAsCi8vIHRoZW4gcGFzc2VzIHRoZSByZXN1bHQgb2YgdGhlIHByZXZpb3VzIHN0ZXAgYXMgdGhlIGlucHV0IHRvIHRoZSBuZXh0IHN0ZXAuCmZ1bmN0aW9uIF91cGxvYWRGaWxlc0NvbnRpbnVlKG91dHB1dElkKSB7CiAgY29uc3Qgb3V0cHV0RWxlbWVudCA9IGRvY3VtZW50LmdldEVsZW1lbnRCeUlkKG91dHB1dElkKTsKICBjb25zdCBzdGVwcyA9IG91dHB1dEVsZW1lbnQuc3RlcHM7CgogIGNvbnN0IG5leHQgPSBzdGVwcy5uZXh0KG91dHB1dEVsZW1lbnQubGFzdFByb21pc2VWYWx1ZSk7CiAgcmV0dXJuIFByb21pc2UucmVzb2x2ZShuZXh0LnZhbHVlLnByb21pc2UpLnRoZW4oKHZhbHVlKSA9PiB7CiAgICAvLyBDYWNoZSB0aGUgbGFzdCBwcm9taXNlIHZhbHVlIHRvIG1ha2UgaXQgYXZhaWxhYmxlIHRvIHRoZSBuZXh0CiAgICAvLyBzdGVwIG9mIHRoZSBnZW5lcmF0b3IuCiAgICBvdXRwdXRFbGVtZW50Lmxhc3RQcm9taXNlVmFsdWUgPSB2YWx1ZTsKICAgIHJldHVybiBuZXh0LnZhbHVlLnJlc3BvbnNlOwogIH0pOwp9CgovKioKICogR2VuZXJhdG9yIGZ1bmN0aW9uIHdoaWNoIGlzIGNhbGxlZCBiZXR3ZWVuIGVhY2ggYXN5bmMgc3RlcCBvZiB0aGUgdXBsb2FkCiAqIHByb2Nlc3MuCiAqIEBwYXJhbSB7c3RyaW5nfSBpbnB1dElkIEVsZW1lbnQgSUQgb2YgdGhlIGlucHV0IGZpbGUgcGlja2VyIGVsZW1lbnQuCiAqIEBwYXJhbSB7c3RyaW5nfSBvdXRwdXRJZCBFbGVtZW50IElEIG9mIHRoZSBvdXRwdXQgZGlzcGxheS4KICogQHJldHVybiB7IUl0ZXJhYmxlPCFPYmplY3Q+fSBJdGVyYWJsZSBvZiBuZXh0IHN0ZXBzLgogKi8KZnVuY3Rpb24qIHVwbG9hZEZpbGVzU3RlcChpbnB1dElkLCBvdXRwdXRJZCkgewogIGNvbnN0IGlucHV0RWxlbWVudCA9IGRvY3VtZW50LmdldEVsZW1lbnRCeUlkKGlucHV0SWQpOwogIGlucHV0RWxlbWVudC5kaXNhYmxlZCA9IGZhbHNlOwoKICBjb25zdCBvdXRwdXRFbGVtZW50ID0gZG9jdW1lbnQuZ2V0RWxlbWVudEJ5SWQob3V0cHV0SWQpOwogIG91dHB1dEVsZW1lbnQuaW5uZXJIVE1MID0gJyc7CgogIGNvbnN0IHBpY2tlZFByb21pc2UgPSBuZXcgUHJvbWlzZSgocmVzb2x2ZSkgPT4gewogICAgaW5wdXRFbGVtZW50LmFkZEV2ZW50TGlzdGVuZXIoJ2NoYW5nZScsIChlKSA9PiB7CiAgICAgIHJlc29sdmUoZS50YXJnZXQuZmlsZXMpOwogICAgfSk7CiAgfSk7CgogIGNvbnN0IGNhbmNlbCA9IGRvY3VtZW50LmNyZWF0ZUVsZW1lbnQoJ2J1dHRvbicpOwogIGlucHV0RWxlbWVudC5wYXJlbnRFbGVtZW50LmFwcGVuZENoaWxkKGNhbmNlbCk7CiAgY2FuY2VsLnRleHRDb250ZW50ID0gJ0NhbmNlbCB1cGxvYWQnOwogIGNvbnN0IGNhbmNlbFByb21pc2UgPSBuZXcgUHJvbWlzZSgocmVzb2x2ZSkgPT4gewogICAgY2FuY2VsLm9uY2xpY2sgPSAoKSA9PiB7CiAgICAgIHJlc29sdmUobnVsbCk7CiAgICB9OwogIH0pOwoKICAvLyBXYWl0IGZvciB0aGUgdXNlciB0byBwaWNrIHRoZSBmaWxlcy4KICBjb25zdCBmaWxlcyA9IHlpZWxkIHsKICAgIHByb21pc2U6IFByb21pc2UucmFjZShbcGlja2VkUHJvbWlzZSwgY2FuY2VsUHJvbWlzZV0pLAogICAgcmVzcG9uc2U6IHsKICAgICAgYWN0aW9uOiAnc3RhcnRpbmcnLAogICAgfQogIH07CgogIGNhbmNlbC5yZW1vdmUoKTsKCiAgLy8gRGlzYWJsZSB0aGUgaW5wdXQgZWxlbWVudCBzaW5jZSBmdXJ0aGVyIHBpY2tzIGFyZSBub3QgYWxsb3dlZC4KICBpbnB1dEVsZW1lbnQuZGlzYWJsZWQgPSB0cnVlOwoKICBpZiAoIWZpbGVzKSB7CiAgICByZXR1cm4gewogICAgICByZXNwb25zZTogewogICAgICAgIGFjdGlvbjogJ2NvbXBsZXRlJywKICAgICAgfQogICAgfTsKICB9CgogIGZvciAoY29uc3QgZmlsZSBvZiBmaWxlcykgewogICAgY29uc3QgbGkgPSBkb2N1bWVudC5jcmVhdGVFbGVtZW50KCdsaScpOwogICAgbGkuYXBwZW5kKHNwYW4oZmlsZS5uYW1lLCB7Zm9udFdlaWdodDogJ2JvbGQnfSkpOwogICAgbGkuYXBwZW5kKHNwYW4oCiAgICAgICAgYCgke2ZpbGUudHlwZSB8fCAnbi9hJ30pIC0gJHtmaWxlLnNpemV9IGJ5dGVzLCBgICsKICAgICAgICBgbGFzdCBtb2RpZmllZDogJHsKICAgICAgICAgICAgZmlsZS5sYXN0TW9kaWZpZWREYXRlID8gZmlsZS5sYXN0TW9kaWZpZWREYXRlLnRvTG9jYWxlRGF0ZVN0cmluZygpIDoKICAgICAgICAgICAgICAgICAgICAgICAgICAgICAgICAgICAgJ24vYSd9IC0gYCkpOwogICAgY29uc3QgcGVyY2VudCA9IHNwYW4oJzAlIGRvbmUnKTsKICAgIGxpLmFwcGVuZENoaWxkKHBlcmNlbnQpOwoKICAgIG91dHB1dEVsZW1lbnQuYXBwZW5kQ2hpbGQobGkpOwoKICAgIGNvbnN0IGZpbGVEYXRhUHJvbWlzZSA9IG5ldyBQcm9taXNlKChyZXNvbHZlKSA9PiB7CiAgICAgIGNvbnN0IHJlYWRlciA9IG5ldyBGaWxlUmVhZGVyKCk7CiAgICAgIHJlYWRlci5vbmxvYWQgPSAoZSkgPT4gewogICAgICAgIHJlc29sdmUoZS50YXJnZXQucmVzdWx0KTsKICAgICAgfTsKICAgICAgcmVhZGVyLnJlYWRBc0FycmF5QnVmZmVyKGZpbGUpOwogICAgfSk7CiAgICAvLyBXYWl0IGZvciB0aGUgZGF0YSB0byBiZSByZWFkeS4KICAgIGxldCBmaWxlRGF0YSA9IHlpZWxkIHsKICAgICAgcHJvbWlzZTogZmlsZURhdGFQcm9taXNlLAogICAgICByZXNwb25zZTogewogICAgICAgIGFjdGlvbjogJ2NvbnRpbnVlJywKICAgICAgfQogICAgfTsKCiAgICAvLyBVc2UgYSBjaHVua2VkIHNlbmRpbmcgdG8gYXZvaWQgbWVzc2FnZSBzaXplIGxpbWl0cy4gU2VlIGIvNjIxMTU2NjAuCiAgICBsZXQgcG9zaXRpb24gPSAwOwogICAgd2hpbGUgKHBvc2l0aW9uIDwgZmlsZURhdGEuYnl0ZUxlbmd0aCkgewogICAgICBjb25zdCBsZW5ndGggPSBNYXRoLm1pbihmaWxlRGF0YS5ieXRlTGVuZ3RoIC0gcG9zaXRpb24sIE1BWF9QQVlMT0FEX1NJWkUpOwogICAgICBjb25zdCBjaHVuayA9IG5ldyBVaW50OEFycmF5KGZpbGVEYXRhLCBwb3NpdGlvbiwgbGVuZ3RoKTsKICAgICAgcG9zaXRpb24gKz0gbGVuZ3RoOwoKICAgICAgY29uc3QgYmFzZTY0ID0gYnRvYShTdHJpbmcuZnJvbUNoYXJDb2RlLmFwcGx5KG51bGwsIGNodW5rKSk7CiAgICAgIHlpZWxkIHsKICAgICAgICByZXNwb25zZTogewogICAgICAgICAgYWN0aW9uOiAnYXBwZW5kJywKICAgICAgICAgIGZpbGU6IGZpbGUubmFtZSwKICAgICAgICAgIGRhdGE6IGJhc2U2NCwKICAgICAgICB9LAogICAgICB9OwogICAgICBwZXJjZW50LnRleHRDb250ZW50ID0KICAgICAgICAgIGAke01hdGgucm91bmQoKHBvc2l0aW9uIC8gZmlsZURhdGEuYnl0ZUxlbmd0aCkgKiAxMDApfSUgZG9uZWA7CiAgICB9CiAgfQoKICAvLyBBbGwgZG9uZS4KICB5aWVsZCB7CiAgICByZXNwb25zZTogewogICAgICBhY3Rpb246ICdjb21wbGV0ZScsCiAgICB9CiAgfTsKfQoKc2NvcGUuZ29vZ2xlID0gc2NvcGUuZ29vZ2xlIHx8IHt9OwpzY29wZS5nb29nbGUuY29sYWIgPSBzY29wZS5nb29nbGUuY29sYWIgfHwge307CnNjb3BlLmdvb2dsZS5jb2xhYi5fZmlsZXMgPSB7CiAgX3VwbG9hZEZpbGVzLAogIF91cGxvYWRGaWxlc0NvbnRpbnVlLAp9Owp9KShzZWxmKTsK",
              "ok": true,
              "headers": [
                [
                  "content-type",
                  "application/javascript"
                ]
              ],
              "status": 200,
              "status_text": ""
            }
          },
          "base_uri": "https://localhost:8080/",
          "height": 414
        },
        "id": "32e7fa0e",
        "outputId": "9b5939f2-4bb4-43f9-85c7-95fefc2f14c3"
      },
      "source": [
        "#read dataset\n",
        "from google.colab import files\n",
        "upload = files.upload()\n",
        "\n",
        "import io\n",
        "data_karyawan = pd.read_csv(io.BytesIO(upload['dataset.csv']))\n",
        "data_karyawan"
      ],
      "id": "32e7fa0e",
      "execution_count": 21,
      "outputs": [
        {
          "output_type": "display_data",
          "data": {
            "text/html": [
              "\n",
              "     <input type=\"file\" id=\"files-6bf683a2-8a15-4206-bae1-47facbd8f847\" name=\"files[]\" multiple disabled\n",
              "        style=\"border:none\" />\n",
              "     <output id=\"result-6bf683a2-8a15-4206-bae1-47facbd8f847\">\n",
              "      Upload widget is only available when the cell has been executed in the\n",
              "      current browser session. Please rerun this cell to enable.\n",
              "      </output>\n",
              "      <script src=\"/nbextensions/google.colab/files.js\"></script> "
            ],
            "text/plain": [
              "<IPython.core.display.HTML object>"
            ]
          },
          "metadata": {
            "tags": []
          }
        },
        {
          "output_type": "stream",
          "text": [
            "Saving dataset.csv to dataset (7).csv\n"
          ],
          "name": "stdout"
        },
        {
          "output_type": "execute_result",
          "data": {
            "text/html": [
              "<div>\n",
              "<style scoped>\n",
              "    .dataframe tbody tr th:only-of-type {\n",
              "        vertical-align: middle;\n",
              "    }\n",
              "\n",
              "    .dataframe tbody tr th {\n",
              "        vertical-align: top;\n",
              "    }\n",
              "\n",
              "    .dataframe thead th {\n",
              "        text-align: right;\n",
              "    }\n",
              "</style>\n",
              "<table border=\"1\" class=\"dataframe\">\n",
              "  <thead>\n",
              "    <tr style=\"text-align: right;\">\n",
              "      <th></th>\n",
              "      <th>No</th>\n",
              "      <th>Nama</th>\n",
              "      <th>Umur</th>\n",
              "      <th>Masa Kerja</th>\n",
              "      <th>Gaji</th>\n",
              "    </tr>\n",
              "  </thead>\n",
              "  <tbody>\n",
              "    <tr>\n",
              "      <th>0</th>\n",
              "      <td>1</td>\n",
              "      <td>A</td>\n",
              "      <td>30</td>\n",
              "      <td>6</td>\n",
              "      <td>750</td>\n",
              "    </tr>\n",
              "    <tr>\n",
              "      <th>1</th>\n",
              "      <td>2</td>\n",
              "      <td>B</td>\n",
              "      <td>48</td>\n",
              "      <td>17</td>\n",
              "      <td>1500</td>\n",
              "    </tr>\n",
              "    <tr>\n",
              "      <th>2</th>\n",
              "      <td>3</td>\n",
              "      <td>C</td>\n",
              "      <td>36</td>\n",
              "      <td>14</td>\n",
              "      <td>1255</td>\n",
              "    </tr>\n",
              "    <tr>\n",
              "      <th>3</th>\n",
              "      <td>4</td>\n",
              "      <td>D</td>\n",
              "      <td>37</td>\n",
              "      <td>4</td>\n",
              "      <td>1040</td>\n",
              "    </tr>\n",
              "    <tr>\n",
              "      <th>4</th>\n",
              "      <td>5</td>\n",
              "      <td>E</td>\n",
              "      <td>42</td>\n",
              "      <td>12</td>\n",
              "      <td>950</td>\n",
              "    </tr>\n",
              "    <tr>\n",
              "      <th>5</th>\n",
              "      <td>6</td>\n",
              "      <td>F</td>\n",
              "      <td>39</td>\n",
              "      <td>13</td>\n",
              "      <td>1600</td>\n",
              "    </tr>\n",
              "    <tr>\n",
              "      <th>6</th>\n",
              "      <td>7</td>\n",
              "      <td>G</td>\n",
              "      <td>37</td>\n",
              "      <td>5</td>\n",
              "      <td>1250</td>\n",
              "    </tr>\n",
              "    <tr>\n",
              "      <th>7</th>\n",
              "      <td>8</td>\n",
              "      <td>H</td>\n",
              "      <td>32</td>\n",
              "      <td>1</td>\n",
              "      <td>550</td>\n",
              "    </tr>\n",
              "    <tr>\n",
              "      <th>8</th>\n",
              "      <td>9</td>\n",
              "      <td>I</td>\n",
              "      <td>35</td>\n",
              "      <td>3</td>\n",
              "      <td>735</td>\n",
              "    </tr>\n",
              "    <tr>\n",
              "      <th>9</th>\n",
              "      <td>10</td>\n",
              "      <td>J</td>\n",
              "      <td>35</td>\n",
              "      <td>2</td>\n",
              "      <td>860</td>\n",
              "    </tr>\n",
              "  </tbody>\n",
              "</table>\n",
              "</div>"
            ],
            "text/plain": [
              "   No Nama  Umur  Masa Kerja  Gaji\n",
              "0   1    A    30           6   750\n",
              "1   2    B    48          17  1500\n",
              "2   3    C    36          14  1255\n",
              "3   4    D    37           4  1040\n",
              "4   5    E    42          12   950\n",
              "5   6    F    39          13  1600\n",
              "6   7    G    37           5  1250\n",
              "7   8    H    32           1   550\n",
              "8   9    I    35           3   735\n",
              "9  10    J    35           2   860"
            ]
          },
          "metadata": {
            "tags": []
          },
          "execution_count": 21
        }
      ]
    },
    {
      "cell_type": "code",
      "metadata": {
        "colab": {
          "base_uri": "https://localhost:8080/",
          "height": 359
        },
        "id": "a81ff157",
        "outputId": "d6db9812-1e73-47ab-8d47-3f867b7ceda5"
      },
      "source": [
        "#untuk array umur\n",
        "umur = np.array(data_karyawan)\n",
        "umur = umur[:,[0,2]]\n",
        "pd.DataFrame(umur)"
      ],
      "id": "a81ff157",
      "execution_count": 23,
      "outputs": [
        {
          "output_type": "execute_result",
          "data": {
            "text/html": [
              "<div>\n",
              "<style scoped>\n",
              "    .dataframe tbody tr th:only-of-type {\n",
              "        vertical-align: middle;\n",
              "    }\n",
              "\n",
              "    .dataframe tbody tr th {\n",
              "        vertical-align: top;\n",
              "    }\n",
              "\n",
              "    .dataframe thead th {\n",
              "        text-align: right;\n",
              "    }\n",
              "</style>\n",
              "<table border=\"1\" class=\"dataframe\">\n",
              "  <thead>\n",
              "    <tr style=\"text-align: right;\">\n",
              "      <th></th>\n",
              "      <th>0</th>\n",
              "      <th>1</th>\n",
              "    </tr>\n",
              "  </thead>\n",
              "  <tbody>\n",
              "    <tr>\n",
              "      <th>0</th>\n",
              "      <td>1</td>\n",
              "      <td>30</td>\n",
              "    </tr>\n",
              "    <tr>\n",
              "      <th>1</th>\n",
              "      <td>2</td>\n",
              "      <td>48</td>\n",
              "    </tr>\n",
              "    <tr>\n",
              "      <th>2</th>\n",
              "      <td>3</td>\n",
              "      <td>36</td>\n",
              "    </tr>\n",
              "    <tr>\n",
              "      <th>3</th>\n",
              "      <td>4</td>\n",
              "      <td>37</td>\n",
              "    </tr>\n",
              "    <tr>\n",
              "      <th>4</th>\n",
              "      <td>5</td>\n",
              "      <td>42</td>\n",
              "    </tr>\n",
              "    <tr>\n",
              "      <th>5</th>\n",
              "      <td>6</td>\n",
              "      <td>39</td>\n",
              "    </tr>\n",
              "    <tr>\n",
              "      <th>6</th>\n",
              "      <td>7</td>\n",
              "      <td>37</td>\n",
              "    </tr>\n",
              "    <tr>\n",
              "      <th>7</th>\n",
              "      <td>8</td>\n",
              "      <td>32</td>\n",
              "    </tr>\n",
              "    <tr>\n",
              "      <th>8</th>\n",
              "      <td>9</td>\n",
              "      <td>35</td>\n",
              "    </tr>\n",
              "    <tr>\n",
              "      <th>9</th>\n",
              "      <td>10</td>\n",
              "      <td>35</td>\n",
              "    </tr>\n",
              "  </tbody>\n",
              "</table>\n",
              "</div>"
            ],
            "text/plain": [
              "    0   1\n",
              "0   1  30\n",
              "1   2  48\n",
              "2   3  36\n",
              "3   4  37\n",
              "4   5  42\n",
              "5   6  39\n",
              "6   7  37\n",
              "7   8  32\n",
              "8   9  35\n",
              "9  10  35"
            ]
          },
          "metadata": {
            "tags": []
          },
          "execution_count": 23
        }
      ]
    },
    {
      "cell_type": "code",
      "metadata": {
        "scrolled": true,
        "colab": {
          "base_uri": "https://localhost:8080/",
          "height": 359
        },
        "id": "aa28a009",
        "outputId": "f1d433ca-d833-4485-a1f3-9e6191fecd13"
      },
      "source": [
        "#array masa kerja\n",
        "masakerja = np.array(data_karyawan)\n",
        "masakerja = masakerja[:,[0,3]]\n",
        "pd.DataFrame(masakerja)"
      ],
      "id": "aa28a009",
      "execution_count": 24,
      "outputs": [
        {
          "output_type": "execute_result",
          "data": {
            "text/html": [
              "<div>\n",
              "<style scoped>\n",
              "    .dataframe tbody tr th:only-of-type {\n",
              "        vertical-align: middle;\n",
              "    }\n",
              "\n",
              "    .dataframe tbody tr th {\n",
              "        vertical-align: top;\n",
              "    }\n",
              "\n",
              "    .dataframe thead th {\n",
              "        text-align: right;\n",
              "    }\n",
              "</style>\n",
              "<table border=\"1\" class=\"dataframe\">\n",
              "  <thead>\n",
              "    <tr style=\"text-align: right;\">\n",
              "      <th></th>\n",
              "      <th>0</th>\n",
              "      <th>1</th>\n",
              "    </tr>\n",
              "  </thead>\n",
              "  <tbody>\n",
              "    <tr>\n",
              "      <th>0</th>\n",
              "      <td>1</td>\n",
              "      <td>6</td>\n",
              "    </tr>\n",
              "    <tr>\n",
              "      <th>1</th>\n",
              "      <td>2</td>\n",
              "      <td>17</td>\n",
              "    </tr>\n",
              "    <tr>\n",
              "      <th>2</th>\n",
              "      <td>3</td>\n",
              "      <td>14</td>\n",
              "    </tr>\n",
              "    <tr>\n",
              "      <th>3</th>\n",
              "      <td>4</td>\n",
              "      <td>4</td>\n",
              "    </tr>\n",
              "    <tr>\n",
              "      <th>4</th>\n",
              "      <td>5</td>\n",
              "      <td>12</td>\n",
              "    </tr>\n",
              "    <tr>\n",
              "      <th>5</th>\n",
              "      <td>6</td>\n",
              "      <td>13</td>\n",
              "    </tr>\n",
              "    <tr>\n",
              "      <th>6</th>\n",
              "      <td>7</td>\n",
              "      <td>5</td>\n",
              "    </tr>\n",
              "    <tr>\n",
              "      <th>7</th>\n",
              "      <td>8</td>\n",
              "      <td>1</td>\n",
              "    </tr>\n",
              "    <tr>\n",
              "      <th>8</th>\n",
              "      <td>9</td>\n",
              "      <td>3</td>\n",
              "    </tr>\n",
              "    <tr>\n",
              "      <th>9</th>\n",
              "      <td>10</td>\n",
              "      <td>2</td>\n",
              "    </tr>\n",
              "  </tbody>\n",
              "</table>\n",
              "</div>"
            ],
            "text/plain": [
              "    0   1\n",
              "0   1   6\n",
              "1   2  17\n",
              "2   3  14\n",
              "3   4   4\n",
              "4   5  12\n",
              "5   6  13\n",
              "6   7   5\n",
              "7   8   1\n",
              "8   9   3\n",
              "9  10   2"
            ]
          },
          "metadata": {
            "tags": []
          },
          "execution_count": 24
        }
      ]
    },
    {
      "cell_type": "code",
      "metadata": {
        "colab": {
          "base_uri": "https://localhost:8080/",
          "height": 359
        },
        "id": "695024ac",
        "outputId": "2549ebc8-6bce-415a-ff90-06b70a78fccf"
      },
      "source": [
        "#array gaji\n",
        "gaji = np.array(data_karyawan)\n",
        "gaji = gaji[:,[0,4]]\n",
        "pd.DataFrame(gaji)"
      ],
      "id": "695024ac",
      "execution_count": 25,
      "outputs": [
        {
          "output_type": "execute_result",
          "data": {
            "text/html": [
              "<div>\n",
              "<style scoped>\n",
              "    .dataframe tbody tr th:only-of-type {\n",
              "        vertical-align: middle;\n",
              "    }\n",
              "\n",
              "    .dataframe tbody tr th {\n",
              "        vertical-align: top;\n",
              "    }\n",
              "\n",
              "    .dataframe thead th {\n",
              "        text-align: right;\n",
              "    }\n",
              "</style>\n",
              "<table border=\"1\" class=\"dataframe\">\n",
              "  <thead>\n",
              "    <tr style=\"text-align: right;\">\n",
              "      <th></th>\n",
              "      <th>0</th>\n",
              "      <th>1</th>\n",
              "    </tr>\n",
              "  </thead>\n",
              "  <tbody>\n",
              "    <tr>\n",
              "      <th>0</th>\n",
              "      <td>1</td>\n",
              "      <td>750</td>\n",
              "    </tr>\n",
              "    <tr>\n",
              "      <th>1</th>\n",
              "      <td>2</td>\n",
              "      <td>1500</td>\n",
              "    </tr>\n",
              "    <tr>\n",
              "      <th>2</th>\n",
              "      <td>3</td>\n",
              "      <td>1255</td>\n",
              "    </tr>\n",
              "    <tr>\n",
              "      <th>3</th>\n",
              "      <td>4</td>\n",
              "      <td>1040</td>\n",
              "    </tr>\n",
              "    <tr>\n",
              "      <th>4</th>\n",
              "      <td>5</td>\n",
              "      <td>950</td>\n",
              "    </tr>\n",
              "    <tr>\n",
              "      <th>5</th>\n",
              "      <td>6</td>\n",
              "      <td>1600</td>\n",
              "    </tr>\n",
              "    <tr>\n",
              "      <th>6</th>\n",
              "      <td>7</td>\n",
              "      <td>1250</td>\n",
              "    </tr>\n",
              "    <tr>\n",
              "      <th>7</th>\n",
              "      <td>8</td>\n",
              "      <td>550</td>\n",
              "    </tr>\n",
              "    <tr>\n",
              "      <th>8</th>\n",
              "      <td>9</td>\n",
              "      <td>735</td>\n",
              "    </tr>\n",
              "    <tr>\n",
              "      <th>9</th>\n",
              "      <td>10</td>\n",
              "      <td>860</td>\n",
              "    </tr>\n",
              "  </tbody>\n",
              "</table>\n",
              "</div>"
            ],
            "text/plain": [
              "    0     1\n",
              "0   1   750\n",
              "1   2  1500\n",
              "2   3  1255\n",
              "3   4  1040\n",
              "4   5   950\n",
              "5   6  1600\n",
              "6   7  1250\n",
              "7   8   550\n",
              "8   9   735\n",
              "9  10   860"
            ]
          },
          "metadata": {
            "tags": []
          },
          "execution_count": 25
        }
      ]
    },
    {
      "cell_type": "code",
      "metadata": {
        "colab": {
          "base_uri": "https://localhost:8080/"
        },
        "id": "20e15e8c",
        "outputId": "11b79bd9-a83b-4365-cf17-4d6a7a968f67"
      },
      "source": [
        "#dapatkan data dari array\n",
        "\n",
        "#data umur\n",
        "umur1 = np.sum(umur[0:1,1], axis=0)\n",
        "umur2 = np.sum(umur[1:2,1], axis=0)\n",
        "umur3 = np.sum(umur[2:3,1], axis=0)\n",
        "umur4 = np.sum(umur[3:4,1], axis=0)\n",
        "umur5 = np.sum(umur[4:5,1], axis=0)\n",
        "umur6 = np.sum(umur[5:6,1], axis=0)\n",
        "umur7 = np.sum(umur[6:7,1], axis=0)\n",
        "umur8 = np.sum(umur[7:8,1], axis=0)\n",
        "umur9 = np.sum(umur[8:9,1], axis=0)\n",
        "umur10 = np.sum(umur[9:10,1], axis=0)\n",
        "\n",
        "print (\"Umur 1\", umur1)\n",
        "print (\"Umur 2\", umur2)\n",
        "print (\"Umur 3\", umur3)\n",
        "print (\"Umur 4\", umur4)\n",
        "print (\"Umur 5\", umur5)\n",
        "print (\"Umur 6\", umur6)\n",
        "print (\"Umur 7\", umur7)\n",
        "print (\"Umur 8\", umur8)\n",
        "print (\"Umur 8\", umur9)\n",
        "print (\"Umur 10\", umur10)"
      ],
      "id": "20e15e8c",
      "execution_count": 26,
      "outputs": [
        {
          "output_type": "stream",
          "text": [
            "Umur 1 30\n",
            "Umur 2 48\n",
            "Umur 3 36\n",
            "Umur 4 37\n",
            "Umur 5 42\n",
            "Umur 6 39\n",
            "Umur 7 37\n",
            "Umur 8 32\n",
            "Umur 8 35\n",
            "Umur 10 35\n"
          ],
          "name": "stdout"
        }
      ]
    },
    {
      "cell_type": "code",
      "metadata": {
        "colab": {
          "base_uri": "https://localhost:8080/"
        },
        "id": "b8d5fc73",
        "outputId": "4bcf9433-89da-47be-d353-59dce440e0cf"
      },
      "source": [
        "#dapatkan data dari array\n",
        "\n",
        "#data masakerja\n",
        "masakerja1 = np.sum(masakerja[0:1,1], axis=0)\n",
        "masakerja2 = np.sum(masakerja[1:2,1], axis=0)\n",
        "masakerja3 = np.sum(masakerja[2:3,1], axis=0)\n",
        "masakerja4 = np.sum(masakerja[3:4,1], axis=0)\n",
        "masakerja5 = np.sum(masakerja[4:5,1], axis=0)\n",
        "masakerja6 = np.sum(masakerja[5:6,1], axis=0)\n",
        "masakerja7 = np.sum(masakerja[6:7,1], axis=0)\n",
        "masakerja8 = np.sum(masakerja[7:8,1], axis=0)\n",
        "masakerja9 = np.sum(masakerja[8:9,1], axis=0)\n",
        "masakerja10 = np.sum(masakerja[9:10,1], axis=0)\n",
        "\n",
        "print (\"Masa Kerja 1:\", masakerja1)\n",
        "print (\"Masa Kerja 2:\", masakerja2)\n",
        "print (\"Masa Kerja 3:\", masakerja3)\n",
        "print (\"Masa Kerja 4:\", masakerja4)\n",
        "print (\"Masa Kerja 5:\", masakerja5)\n",
        "print (\"Masa Kerja 6:\", masakerja6)\n",
        "print (\"Masa Kerja 7:\", masakerja7)\n",
        "print (\"Masa Kerja 8:\", masakerja8)\n",
        "print (\"Masa Kerja 9:\", masakerja9)\n",
        "print (\"Masa Kerja 10:\", masakerja10)"
      ],
      "id": "b8d5fc73",
      "execution_count": 27,
      "outputs": [
        {
          "output_type": "stream",
          "text": [
            "Masa Kerja 1: 6\n",
            "Masa Kerja 2: 17\n",
            "Masa Kerja 3: 14\n",
            "Masa Kerja 4: 4\n",
            "Masa Kerja 5: 12\n",
            "Masa Kerja 6: 13\n",
            "Masa Kerja 7: 5\n",
            "Masa Kerja 8: 1\n",
            "Masa Kerja 9: 3\n",
            "Masa Kerja 10: 2\n"
          ],
          "name": "stdout"
        }
      ]
    },
    {
      "cell_type": "code",
      "metadata": {
        "colab": {
          "base_uri": "https://localhost:8080/"
        },
        "id": "4e144d9c",
        "outputId": "f44d1959-66d2-455c-eab8-9089b644498e"
      },
      "source": [
        "#dapatkan data dari array\n",
        "\n",
        "#data gaji\n",
        "gaji1 = np.sum(gaji[0:1,1], axis=0)\n",
        "gaji2 = np.sum(gaji[1:2,1], axis=0)\n",
        "gaji3 = np.sum(gaji[2:3,1], axis=0)\n",
        "gaji4 = np.sum(gaji[3:4,1], axis=0)\n",
        "gaji5 = np.sum(gaji[4:5,1], axis=0)\n",
        "gaji6 = np.sum(gaji[5:6,1], axis=0)\n",
        "gaji7 = np.sum(gaji[6:7,1], axis=0)\n",
        "gaji8 = np.sum(gaji[7:8,1], axis=0)\n",
        "gaji9 = np.sum(gaji[8:9,1], axis=0)\n",
        "gaji10 = np.sum(gaji[9:10,1], axis=0)\n",
        "\n",
        "print (\"Gaji 1:\", gaji1)"
      ],
      "id": "4e144d9c",
      "execution_count": 28,
      "outputs": [
        {
          "output_type": "stream",
          "text": [
            "Gaji 1: 750\n"
          ],
          "name": "stdout"
        }
      ]
    },
    {
      "cell_type": "code",
      "metadata": {
        "scrolled": true,
        "id": "0a6cbe47"
      },
      "source": [
        "#definisi rentang\n",
        "x_gaji = np.arange(550, 1600, 1)\n",
        "x_masakerja = np.arange(5, 25, 1)\n",
        "x_umur = np.arange(30, 50, 1)"
      ],
      "id": "0a6cbe47",
      "execution_count": 32,
      "outputs": []
    },
    {
      "cell_type": "code",
      "metadata": {
        "scrolled": true,
        "id": "0e2169b8"
      },
      "source": [
        "umur_lo = fuzz.trimf(x_umur, [0, 30, 40])\n",
        "umur_mid = fuzz.trimf(x_umur, [35, 40, 45])\n",
        "umur_hight = fuzz.trimf(x_umur, [40, 45, 49])"
      ],
      "id": "0e2169b8",
      "execution_count": 33,
      "outputs": []
    },
    {
      "cell_type": "code",
      "metadata": {
        "scrolled": true,
        "colab": {
          "base_uri": "https://localhost:8080/",
          "height": 244
        },
        "id": "cdeeb2ed",
        "outputId": "f3b934c3-0811-47aa-a0ef-b0beaf73635d"
      },
      "source": [
        "fig, ax = plt.subplots(nrows=1, figsize=(6, 3))\n",
        "ax.plot(x_umur, umur_lo, 'b', linewidth=1.5, label='Muda')\n",
        "ax.plot(x_umur, umur_mid, 'g', linewidth=1.5, label='Parubaya')\n",
        "ax.plot(x_umur, umur_hight, 'r', linewidth=1.5, label='Tua')\n",
        "ax.set_title('Himpunan Umur')\n",
        "ax.legend()"
      ],
      "id": "cdeeb2ed",
      "execution_count": 34,
      "outputs": [
        {
          "output_type": "execute_result",
          "data": {
            "text/plain": [
              "<matplotlib.legend.Legend at 0x7fc29b0adb90>"
            ]
          },
          "metadata": {
            "tags": []
          },
          "execution_count": 34
        },
        {
          "output_type": "display_data",
          "data": {
            "image/png": "[encoded data removed]",
            "text/plain": [
              "<Figure size 432x216 with 1 Axes>"
            ]
          },
          "metadata": {
            "tags": [],
            "needs_background": "light"
          }
        }
      ]
    },
    {
      "cell_type": "code",
      "metadata": {
        "scrolled": true,
        "colab": {
          "base_uri": "https://localhost:8080/",
          "height": 244
        },
        "id": "073038b6",
        "outputId": "12d9f322-2188-4002-9308-86f240ddcaf3"
      },
      "source": [
        "x_masakerja = np.arange(5, 25, 1)\n",
        "masakerja_lo = fuzz.trimf(x_masakerja, [0, 5, 15])\n",
        "masakerja_hight = fuzz.trimf(x_masakerja, [10, 25, 25])\n",
        "fig, ax1 = plt.subplots(nrows=1, figsize=(6, 3))\n",
        "ax1.plot(x_masakerja, masakerja_lo, 'b', linewidth=1.5, label='Baru')\n",
        "ax1.plot(x_masakerja, masakerja_hight, 'r', linewidth=1.5, label='Lama')\n",
        "ax1.set_title('Himpunan Masa Kerja')\n",
        "ax1.legend()"
      ],
      "id": "073038b6",
      "execution_count": 35,
      "outputs": [
        {
          "output_type": "execute_result",
          "data": {
            "text/plain": [
              "<matplotlib.legend.Legend at 0x7fc29affe690>"
            ]
          },
          "metadata": {
            "tags": []
          },
          "execution_count": 35
        },
        {
          "output_type": "display_data",
          "data": {
            "image/png": "[encoded data removed]",
            "text/plain": [
              "<Figure size 432x216 with 1 Axes>"
            ]
          },
          "metadata": {
            "tags": [],
            "needs_background": "light"
          }
        }
      ]
    },
    {
      "cell_type": "code",
      "metadata": {
        "colab": {
          "base_uri": "https://localhost:8080/",
          "height": 244
        },
        "id": "31338c8f",
        "outputId": "7fcce206-125e-4794-c514-9dc82e8d0e73"
      },
      "source": [
        "x_gaji = np.arange(300, 2000, 1)\n",
        "fig, ax2 = plt.subplots(nrows=1, figsize=(6, 3))\n",
        "gaji_lo = fuzz.trimf(x_gaji, [0, 300, 800])\n",
        "gaji_mid = fuzz.trimf(x_gaji, [500, 1000, 1500])\n",
        "gaji_hight = fuzz.trimf(x_gaji, [1000, 2000, 2000])\n",
        "ax2.plot(x_gaji, gaji_lo, 'b', linewidth=1.5, label='Rendah')\n",
        "ax2.plot(x_gaji, gaji_mid, 'g', linewidth=1.5, label='Sedang')\n",
        "ax2.plot(x_gaji, gaji_hight, 'r', linewidth=1.5, label='Tinggi')\n",
        "ax2.set_title('Himpunan Gaji')\n",
        "ax2.legend()"
      ],
      "id": "31338c8f",
      "execution_count": 37,
      "outputs": [
        {
          "output_type": "execute_result",
          "data": {
            "text/plain": [
              "<matplotlib.legend.Legend at 0x7fc29aa54b50>"
            ]
          },
          "metadata": {
            "tags": []
          },
          "execution_count": 37
        },
        {
          "output_type": "display_data",
          "data": {
            "image/png": "[encoded data removed]",
            "text/plain": [
              "<Figure size 432x216 with 1 Axes>"
            ]
          },
          "metadata": {
            "tags": [],
            "needs_background": "light"
          }
        }
      ]
    },
    {
      "cell_type": "code",
      "metadata": {
        "id": "d0287ea4"
      },
      "source": [
        "#membuat fungsi keanggotaan\n",
        "\n",
        "#fungsi keanggotaan dengan tiga kriteria\n",
        "def FungsiAnggota(_rentang, _lo, _mid, _hight, _nilai):\n",
        "    lo = fuzz.interp_membership(_rentang, _lo, _nilai)\n",
        "    mid = fuzz.interp_membership(_rentang, _mid, _nilai)\n",
        "    hight = fuzz.interp_membership(_rentang, _hight, _nilai)\n",
        "    \n",
        "    return lo, mid, hight\n",
        "\n",
        "#fungsi keanggotaan dengan dua kriteria\n",
        "def FungsiAnggota2(_rentang, _lo, _hight, _nilai):\n",
        "    lo = fuzz.interp_membership(_rentang, _lo, _nilai)\n",
        "    hight = fuzz.interp_membership(_rentang, _hight, _nilai)\n",
        "    \n",
        "    return lo, hight"
      ],
      "id": "d0287ea4",
      "execution_count": 38,
      "outputs": []
    },
    {
      "cell_type": "code",
      "metadata": {
        "colab": {
          "base_uri": "https://localhost:8080/"
        },
        "id": "48d00349",
        "outputId": "4f234d8c-0116-4158-fb64-a975b7d25347"
      },
      "source": [
        "#Aggregrasi Umur\n",
        "aggregasi_umur_1=FungsiAnggota(x_umur, umur_lo, umur_mid, umur_hight, umur1)\n",
        "aggregasi_umur_2=FungsiAnggota(x_umur, umur_lo, umur_mid, umur_hight, umur2)\n",
        "aggregasi_umur_3=FungsiAnggota(x_umur, umur_lo, umur_mid, umur_hight, umur3)\n",
        "aggregasi_umur_4=FungsiAnggota(x_umur, umur_lo, umur_mid, umur_hight, umur4)\n",
        "aggregasi_umur_5=FungsiAnggota(x_umur, umur_lo, umur_mid, umur_hight, umur5)\n",
        "aggregasi_umur_6=FungsiAnggota(x_umur, umur_lo, umur_mid, umur_hight, umur6)\n",
        "aggregasi_umur_7=FungsiAnggota(x_umur, umur_lo, umur_mid, umur_hight, umur7)\n",
        "aggregasi_umur_8=FungsiAnggota(x_umur, umur_lo, umur_mid, umur_hight, umur8)\n",
        "aggregasi_umur_9=FungsiAnggota(x_umur, umur_lo, umur_mid, umur_hight, umur9)\n",
        "aggregasi_umur_10=FungsiAnggota(x_umur, umur_lo, umur_mid, umur_hight, umur10)\n",
        "\n",
        "#cetak hasil aggregasi umur\n",
        "print(\"nilai umur 1: \", aggregasi_umur_1)\n",
        "print(\"nilai umur 2: \", aggregasi_umur_2)\n",
        "print(\"nilai umur 3: \", aggregasi_umur_3)\n",
        "print(\"nilai umur 4: \", aggregasi_umur_4)\n",
        "print(\"nilai umur 5: \", aggregasi_umur_5)\n",
        "print(\"nilai umur 6: \", aggregasi_umur_6)\n",
        "print(\"nilai umur 7: \", aggregasi_umur_7)\n",
        "print(\"nilai umur 8: \", aggregasi_umur_8)\n",
        "print(\"nilai umur 9: \", aggregasi_umur_9)\n",
        "print(\"nilai umur 10: \", aggregasi_umur_10)"
      ],
      "id": "48d00349",
      "execution_count": 39,
      "outputs": [
        {
          "output_type": "stream",
          "text": [
            "nilai umur 1:  (1.0, 0.0, 0.0)\n",
            "nilai umur 2:  (0.0, 0.0, 0.25)\n",
            "nilai umur 3:  (0.4, 0.2, 0.0)\n",
            "nilai umur 4:  (0.3, 0.4, 0.0)\n",
            "nilai umur 5:  (0.0, 0.6, 0.4)\n",
            "nilai umur 6:  (0.1, 0.8, 0.0)\n",
            "nilai umur 7:  (0.3, 0.4, 0.0)\n",
            "nilai umur 8:  (0.8, 0.0, 0.0)\n",
            "nilai umur 9:  (0.5, 0.0, 0.0)\n",
            "nilai umur 10:  (0.5, 0.0, 0.0)\n"
          ],
          "name": "stdout"
        }
      ]
    },
    {
      "cell_type": "code",
      "metadata": {
        "colab": {
          "base_uri": "https://localhost:8080/"
        },
        "id": "3357f3a1",
        "outputId": "dd709761-bcb7-46fb-a408-b4a0984af16b"
      },
      "source": [
        "#Aggregrasi Gaji\n",
        "aggregasi_gaji_1=FungsiAnggota(x_gaji, gaji_lo, gaji_mid, gaji_hight, gaji1)\n",
        "aggregasi_gaji_2=FungsiAnggota(x_gaji, gaji_lo, gaji_mid, gaji_hight, gaji2)\n",
        "aggregasi_gaji_3=FungsiAnggota(x_gaji, gaji_lo, gaji_mid, gaji_hight, gaji3)\n",
        "aggregasi_gaji_4=FungsiAnggota(x_gaji, gaji_lo, gaji_mid, gaji_hight, gaji4)\n",
        "aggregasi_gaji_5=FungsiAnggota(x_gaji, gaji_lo, gaji_mid, gaji_hight, gaji5)\n",
        "aggregasi_gaji_6=FungsiAnggota(x_gaji, gaji_lo, gaji_mid, gaji_hight, gaji6)\n",
        "aggregasi_gaji_7=FungsiAnggota(x_gaji, gaji_lo, gaji_mid, gaji_hight, gaji7)\n",
        "aggregasi_gaji_8=FungsiAnggota(x_gaji, gaji_lo, gaji_mid, gaji_hight, gaji8)\n",
        "aggregasi_gaji_9=FungsiAnggota(x_gaji, gaji_lo, gaji_mid, gaji_hight, gaji9)\n",
        "aggregasi_gaji_10=FungsiAnggota(x_gaji, gaji_lo, gaji_mid, gaji_hight, gaji10)\n",
        "\n",
        "print(\"nilai gaji 1: \", aggregasi_gaji_1)\n",
        "print(\"nilai gaji 2: \", aggregasi_gaji_2)\n",
        "print(\"nilai gaji 3: \", aggregasi_gaji_3)\n",
        "print(\"nilai gaji 4: \", aggregasi_gaji_4)\n",
        "print(\"nilai gaji 5: \", aggregasi_gaji_5)\n",
        "print(\"nilai gaji 6: \", aggregasi_gaji_6)\n",
        "print(\"nilai gaji 7: \", aggregasi_gaji_7)\n",
        "print(\"nilai gaji 8: \", aggregasi_gaji_8)\n",
        "print(\"nilai gaji 9: \", aggregasi_gaji_9)\n",
        "print(\"nilai gaji 10: \", aggregasi_gaji_10)"
      ],
      "id": "3357f3a1",
      "execution_count": 40,
      "outputs": [
        {
          "output_type": "stream",
          "text": [
            "nilai gaji 1:  (0.1, 0.5, 0.0)\n",
            "nilai gaji 2:  (0.0, 0.0, 0.5)\n",
            "nilai gaji 3:  (0.0, 0.49, 0.255)\n",
            "nilai gaji 4:  (0.0, 0.92, 0.04)\n",
            "nilai gaji 5:  (0.0, 0.9, 0.0)\n",
            "nilai gaji 6:  (0.0, 0.0, 0.6)\n",
            "nilai gaji 7:  (0.0, 0.5, 0.25)\n",
            "nilai gaji 8:  (0.5, 0.1, 0.0)\n",
            "nilai gaji 9:  (0.13, 0.47, 0.0)\n",
            "nilai gaji 10:  (0.0, 0.72, 0.0)\n"
          ],
          "name": "stdout"
        }
      ]
    },
    {
      "cell_type": "code",
      "metadata": {
        "colab": {
          "base_uri": "https://localhost:8080/"
        },
        "id": "73a70875",
        "outputId": "05536c65-f77a-42d5-ccb2-31245ca73c5d"
      },
      "source": [
        "#Aggregrasi Masa Kerja\n",
        "aggregasi_masakerja_1=FungsiAnggota2(x_masakerja, masakerja_lo, masakerja_hight, masakerja1)\n",
        "aggregasi_masakerja_2=FungsiAnggota2(x_masakerja, masakerja_lo, masakerja_hight, masakerja2)\n",
        "aggregasi_masakerja_3=FungsiAnggota2(x_masakerja, masakerja_lo, masakerja_hight, masakerja3)\n",
        "aggregasi_masakerja_4=FungsiAnggota2(x_masakerja, masakerja_lo, masakerja_hight, masakerja4)\n",
        "aggregasi_masakerja_5=FungsiAnggota2(x_masakerja, masakerja_lo, masakerja_hight, masakerja5)\n",
        "aggregasi_masakerja_6=FungsiAnggota2(x_masakerja, masakerja_lo, masakerja_hight, masakerja6)\n",
        "aggregasi_masakerja_7=FungsiAnggota2(x_masakerja, masakerja_lo, masakerja_hight, masakerja7)\n",
        "aggregasi_masakerja_8=FungsiAnggota2(x_masakerja, masakerja_lo, masakerja_hight, masakerja8)\n",
        "aggregasi_masakerja_9=FungsiAnggota2(x_masakerja, masakerja_lo, masakerja_hight, masakerja9)\n",
        "aggregasi_masakerja_10=FungsiAnggota2(x_masakerja, masakerja_lo, masakerja_hight, masakerja10)\n",
        "\n",
        "print(\"masa kerja 1: \", aggregasi_masakerja_1)\n",
        "print(\"masa kerja 2: \", aggregasi_masakerja_2)\n",
        "print(\"masa kerja 3: \", aggregasi_masakerja_3)\n",
        "print(\"masa kerja 4: \", aggregasi_masakerja_4)\n",
        "print(\"masa kerja 5: \", aggregasi_masakerja_5)\n",
        "print(\"masa kerja 6: \", aggregasi_masakerja_6)\n",
        "print(\"masa kerja 7: \", aggregasi_masakerja_7)\n",
        "print(\"masa kerja 8: \", aggregasi_masakerja_8)\n",
        "print(\"masa kerja 9: \", aggregasi_masakerja_9)\n",
        "print(\"masa kerja 10: \", aggregasi_masakerja_10)"
      ],
      "id": "73a70875",
      "execution_count": 41,
      "outputs": [
        {
          "output_type": "stream",
          "text": [
            "masa kerja 1:  (0.9, 0.0)\n",
            "masa kerja 2:  (0.0, 0.4666666666666667)\n",
            "masa kerja 3:  (0.1, 0.26666666666666666)\n",
            "masa kerja 4:  (0.0, 0.0)\n",
            "masa kerja 5:  (0.3, 0.13333333333333333)\n",
            "masa kerja 6:  (0.2, 0.2)\n",
            "masa kerja 7:  (1.0, 0.0)\n",
            "masa kerja 8:  (0.0, 0.0)\n",
            "masa kerja 9:  (0.0, 0.0)\n",
            "masa kerja 10:  (0.0, 0.0)\n"
          ],
          "name": "stdout"
        }
      ]
    },
    {
      "cell_type": "code",
      "metadata": {
        "id": "dbc09e44"
      },
      "source": [
        "#menentukan kriteria keanggotaan\n",
        "\n",
        "def kriteria(_keanggotaan):\n",
        "    kriteria = \"\" #inisialisasi\n",
        "    if (_keanggotaan[0] > _keanggotaan[1] and _keanggotaan[0] > _keanggotaan[2]):\n",
        "        kriteria = \"Rendah\"\n",
        "    elif (_keanggotaan[1] > _keanggotaan[0] and _keanggotaan[1] > _keanggotaan[2]):\n",
        "        kriteria = \"Sedang\"\n",
        "    elif (_keanggotaan[2] > _keanggotaan[0] and _keanggotaan[2] > _keanggotaan[1]):\n",
        "        kriteria = \"Tinggi\"\n",
        "        \n",
        "    return kriteria\n",
        "\n",
        "def kriteria2(_keanggotaan):\n",
        "    kriteria = \"\" #inisialisasi\n",
        "    if (_keanggotaan[0] > _keanggotaan[1]):\n",
        "        kriteria = \"Rendah\"\n",
        "    elif (_keanggotaan[1] > _keanggotaan[0]):\n",
        "        kriteria = \"Tinggi\"\n",
        "        \n",
        "    return kriteria"
      ],
      "id": "dbc09e44",
      "execution_count": 42,
      "outputs": []
    },
    {
      "cell_type": "code",
      "metadata": {
        "colab": {
          "base_uri": "https://localhost:8080/"
        },
        "id": "13d0565c",
        "outputId": "ce2b3678-f640-4497-f20d-bf35f8c11c9f"
      },
      "source": [
        "#cetak kriteria umur berdasarkan aturan yang dibuat\n",
        "kriteria_umur_1 = kriteria(aggregasi_umur_1)\n",
        "kriteria_umur_2 = kriteria(aggregasi_umur_2)\n",
        "kriteria_umur_3 = kriteria(aggregasi_umur_3)\n",
        "kriteria_umur_4 = kriteria(aggregasi_umur_4)\n",
        "kriteria_umur_5 = kriteria(aggregasi_umur_5)\n",
        "kriteria_umur_6 = kriteria(aggregasi_umur_6)\n",
        "kriteria_umur_7 = kriteria(aggregasi_umur_7)\n",
        "kriteria_umur_8 = kriteria(aggregasi_umur_8)\n",
        "kriteria_umur_9 = kriteria(aggregasi_umur_9)\n",
        "kriteria_umur_10 = kriteria(aggregasi_umur_10)\n",
        "\n",
        "print(\"kriteria umur 1: \", kriteria_umur_1)\n",
        "print(\"kriteria umur 2: \", kriteria_umur_2)\n",
        "print(\"kriteria umur 3: \", kriteria_umur_3)\n",
        "print(\"kriteria umur 4: \", kriteria_umur_4)\n",
        "print(\"kriteria umur 5: \", kriteria_umur_5)\n",
        "print(\"kriteria umur 6: \", kriteria_umur_6)\n",
        "print(\"kriteria umur 7: \", kriteria_umur_7)\n",
        "print(\"kriteria umur 8: \", kriteria_umur_8)\n",
        "print(\"kriteria umur 9: \", kriteria_umur_9)\n",
        "print(\"kriteria umur 10: \", kriteria_umur_10)"
      ],
      "id": "13d0565c",
      "execution_count": 43,
      "outputs": [
        {
          "output_type": "stream",
          "text": [
            "kriteria umur 1:  Rendah\n",
            "kriteria umur 2:  Tinggi\n",
            "kriteria umur 3:  Rendah\n",
            "kriteria umur 4:  Sedang\n",
            "kriteria umur 5:  Sedang\n",
            "kriteria umur 6:  Sedang\n",
            "kriteria umur 7:  Sedang\n",
            "kriteria umur 8:  Rendah\n",
            "kriteria umur 9:  Rendah\n",
            "kriteria umur 10:  Rendah\n"
          ],
          "name": "stdout"
        }
      ]
    },
    {
      "cell_type": "code",
      "metadata": {
        "scrolled": true,
        "colab": {
          "base_uri": "https://localhost:8080/"
        },
        "id": "6e986a37",
        "outputId": "65df710e-cf42-4647-ac4a-20176110842f"
      },
      "source": [
        "#cetak kriteria masa kerja berdasarkan aturan yang dibuat\n",
        "kriteria_masakerja_1 = kriteria2(aggregasi_masakerja_1)\n",
        "kriteria_masakerja_2 = kriteria2(aggregasi_masakerja_2)\n",
        "kriteria_masakerja_3 = kriteria2(aggregasi_masakerja_3)\n",
        "kriteria_masakerja_4 = kriteria2(aggregasi_masakerja_4)\n",
        "kriteria_masakerja_5 = kriteria2(aggregasi_masakerja_5)\n",
        "kriteria_masakerja_6 = kriteria2(aggregasi_masakerja_6)\n",
        "kriteria_masakerja_7 = kriteria2(aggregasi_masakerja_7)\n",
        "kriteria_masakerja_8 = kriteria2(aggregasi_masakerja_8)\n",
        "kriteria_masakerja_9 = kriteria2(aggregasi_masakerja_9)\n",
        "kriteria_masakerja_10 = kriteria2(aggregasi_masakerja_10)\n",
        "\n",
        "print(\"kriteria masakerja 1: \", kriteria_masakerja_1)\n",
        "print(\"kriteria masakerja 2: \", kriteria_masakerja_2)\n",
        "print(\"kriteria masakerja 3: \", kriteria_masakerja_3)\n",
        "print(\"kriteria masakerja 4: \", kriteria_masakerja_4)\n",
        "print(\"kriteria masakerja 5: \", kriteria_masakerja_5)\n",
        "print(\"kriteria masakerja 6: \", kriteria_masakerja_6)\n",
        "print(\"kriteria masakerja 7: \", kriteria_masakerja_7)\n",
        "print(\"kriteria masakerja 8: \", kriteria_masakerja_8)\n",
        "print(\"kriteria masakerja 9: \", kriteria_masakerja_9)\n",
        "print(\"kriteria masakerja 10: \", kriteria_masakerja_10)"
      ],
      "id": "6e986a37",
      "execution_count": 44,
      "outputs": [
        {
          "output_type": "stream",
          "text": [
            "kriteria masakerja 1:  Rendah\n",
            "kriteria masakerja 2:  Tinggi\n",
            "kriteria masakerja 3:  Tinggi\n",
            "kriteria masakerja 4:  \n",
            "kriteria masakerja 5:  Rendah\n",
            "kriteria masakerja 6:  \n",
            "kriteria masakerja 7:  Rendah\n",
            "kriteria masakerja 8:  \n",
            "kriteria masakerja 9:  \n",
            "kriteria masakerja 10:  \n"
          ],
          "name": "stdout"
        }
      ]
    },
    {
      "cell_type": "code",
      "metadata": {
        "colab": {
          "base_uri": "https://localhost:8080/"
        },
        "id": "3980a7a2",
        "outputId": "3755c21a-12db-411d-e991-1f7040b73d7e"
      },
      "source": [
        "#cetak kriteria masa kerja berdasarkan aturan yang dibuat\n",
        "kriteria_gaji_1 = kriteria(aggregasi_gaji_1)\n",
        "kriteria_gaji_2 = kriteria(aggregasi_gaji_2)\n",
        "kriteria_gaji_3 = kriteria(aggregasi_gaji_3)\n",
        "kriteria_gaji_4 = kriteria(aggregasi_gaji_4)\n",
        "kriteria_gaji_5 = kriteria(aggregasi_gaji_5)\n",
        "kriteria_gaji_6 = kriteria(aggregasi_gaji_6)\n",
        "kriteria_gaji_7 = kriteria(aggregasi_gaji_7)\n",
        "kriteria_gaji_8 = kriteria(aggregasi_gaji_8)\n",
        "kriteria_gaji_9 = kriteria(aggregasi_gaji_9)\n",
        "kriteria_gaji_10 = kriteria(aggregasi_gaji_10)\n",
        "\n",
        "print(\"kriteria gaji 1: \", kriteria_gaji_1)\n",
        "print(\"kriteria gaji 2: \", kriteria_gaji_2)\n",
        "print(\"kriteria gaji 3: \", kriteria_gaji_3)\n",
        "print(\"kriteria gaji 4: \", kriteria_gaji_4)\n",
        "print(\"kriteria gaji 5: \", kriteria_gaji_5)\n",
        "print(\"kriteria gaji 6: \", kriteria_gaji_6)\n",
        "print(\"kriteria gaji 7: \", kriteria_gaji_7)\n",
        "print(\"kriteria gaji 8: \", kriteria_gaji_8)\n",
        "print(\"kriteria gaji 9: \", kriteria_gaji_9)\n",
        "print(\"kriteria gaji 10: \", kriteria_gaji_10)"
      ],
      "id": "3980a7a2",
      "execution_count": 45,
      "outputs": [
        {
          "output_type": "stream",
          "text": [
            "kriteria gaji 1:  Sedang\n",
            "kriteria gaji 2:  Tinggi\n",
            "kriteria gaji 3:  Sedang\n",
            "kriteria gaji 4:  Sedang\n",
            "kriteria gaji 5:  Sedang\n",
            "kriteria gaji 6:  Tinggi\n",
            "kriteria gaji 7:  Sedang\n",
            "kriteria gaji 8:  Rendah\n",
            "kriteria gaji 9:  Sedang\n",
            "kriteria gaji 10:  Sedang\n"
          ],
          "name": "stdout"
        }
      ]
    },
    {
      "cell_type": "code",
      "metadata": {
        "id": "b65d127a"
      },
      "source": [
        "#membuat aturan untuk memberikan keputusan (melakukan inferensi)\n",
        "\n",
        "def aturan1(_kriteria_umur, _kriteria_masakerja, _kriteria_gaji):\n",
        "    umur = _kriteria_umur\n",
        "    masakerja = _kriteria_masakerja\n",
        "    gaji = _kriteria_gaji\n",
        "    \n",
        "    karyawan = \"\"\n",
        "    \n",
        "    if (umur == \"Rendah\" and masakerja == \"Rendah\" and gaji == \"Rendah\"):\n",
        "        karyawan = \"Baru\"\n",
        "    elif (umur == \"Tinggi\" and masakerja == \"Tinggi\" and gaji == \"Tinggi\"):\n",
        "        karyawan = \"Lama\"\n",
        "    else: karyawan = \"Tidak Diketahui\"\n",
        "        \n",
        "    return karyawan"
      ],
      "id": "b65d127a",
      "execution_count": 46,
      "outputs": []
    },
    {
      "cell_type": "code",
      "metadata": {
        "colab": {
          "base_uri": "https://localhost:8080/"
        },
        "id": "abd3ec04",
        "outputId": "7eb67958-8766-4054-961f-42974847cbc5"
      },
      "source": [
        "#Menentukan kategori karyawan\n",
        "#kembalikan ke dataset bagian nama\n",
        "\n",
        "karyawan_a = aturan1(aggregasi_umur_1, aggregasi_masakerja_1, aggregasi_gaji_1)\n",
        "\n",
        "print(\"karyawan a: \", karyawan_a)"
      ],
      "id": "abd3ec04",
      "execution_count": 47,
      "outputs": [
        {
          "output_type": "stream",
          "text": [
            "karyawan a:  Tidak Diketahui\n"
          ],
          "name": "stdout"
        }
      ]
    },
    {
      "cell_type": "code",
      "metadata": {
        "id": "d88f87fd"
      },
      "source": [
        ""
      ],
      "id": "d88f87fd",
      "execution_count": 47,
      "outputs": []
    },
    {
      "cell_type": "code",
      "metadata": {
        "id": "4b107b46"
      },
      "source": [
        ""
      ],
      "id": "4b107b46",
      "execution_count": null,
      "outputs": []
    }
  ]
}