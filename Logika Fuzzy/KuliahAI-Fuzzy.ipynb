{
 "cells": [
  {
   "cell_type": "markdown",
   "id": "6767bde6",
   "metadata": {},
   "source": [
    "---\n",
    "Kuliah AI Pertemuan Ke-8 (Fuzzy)"
   ]
  },
  {
   "cell_type": "code",
   "execution_count": 1,
   "id": "02ea9a31",
   "metadata": {},
   "outputs": [],
   "source": [
    "#import library\n",
    "import numpy as np\n",
    "import pandas as pd\n",
    "import skfuzzy as fuzz\n",
    "import matplotlib as plt\n",
    "import matplotlib.pyplot as plt"
   ]
  },
  {
   "cell_type": "code",
   "execution_count": 2,
   "id": "32e7fa0e",
   "metadata": {},
   "outputs": [
    {
     "data": {
      "text/html": [
       "<div>\n",
       "<style scoped>\n",
       "    .dataframe tbody tr th:only-of-type {\n",
       "        vertical-align: middle;\n",
       "    }\n",
       "\n",
       "    .dataframe tbody tr th {\n",
       "        vertical-align: top;\n",
       "    }\n",
       "\n",
       "    .dataframe thead th {\n",
       "        text-align: right;\n",
       "    }\n",
       "</style>\n",
       "<table border=\"1\" class=\"dataframe\">\n",
       "  <thead>\n",
       "    <tr style=\"text-align: right;\">\n",
       "      <th></th>\n",
       "      <th>No</th>\n",
       "      <th>Nama</th>\n",
       "      <th>Umur</th>\n",
       "      <th>Masa Kerja</th>\n",
       "      <th>Gaji</th>\n",
       "    </tr>\n",
       "  </thead>\n",
       "  <tbody>\n",
       "    <tr>\n",
       "      <th>0</th>\n",
       "      <td>1</td>\n",
       "      <td>A</td>\n",
       "      <td>30</td>\n",
       "      <td>6</td>\n",
       "      <td>750</td>\n",
       "    </tr>\n",
       "    <tr>\n",
       "      <th>1</th>\n",
       "      <td>2</td>\n",
       "      <td>B</td>\n",
       "      <td>48</td>\n",
       "      <td>17</td>\n",
       "      <td>1500</td>\n",
       "    </tr>\n",
       "    <tr>\n",
       "      <th>2</th>\n",
       "      <td>3</td>\n",
       "      <td>C</td>\n",
       "      <td>36</td>\n",
       "      <td>14</td>\n",
       "      <td>1255</td>\n",
       "    </tr>\n",
       "    <tr>\n",
       "      <th>3</th>\n",
       "      <td>4</td>\n",
       "      <td>D</td>\n",
       "      <td>37</td>\n",
       "      <td>4</td>\n",
       "      <td>1040</td>\n",
       "    </tr>\n",
       "    <tr>\n",
       "      <th>4</th>\n",
       "      <td>5</td>\n",
       "      <td>E</td>\n",
       "      <td>42</td>\n",
       "      <td>12</td>\n",
       "      <td>950</td>\n",
       "    </tr>\n",
       "    <tr>\n",
       "      <th>5</th>\n",
       "      <td>6</td>\n",
       "      <td>F</td>\n",
       "      <td>39</td>\n",
       "      <td>13</td>\n",
       "      <td>1600</td>\n",
       "    </tr>\n",
       "    <tr>\n",
       "      <th>6</th>\n",
       "      <td>7</td>\n",
       "      <td>G</td>\n",
       "      <td>37</td>\n",
       "      <td>5</td>\n",
       "      <td>1250</td>\n",
       "    </tr>\n",
       "    <tr>\n",
       "      <th>7</th>\n",
       "      <td>8</td>\n",
       "      <td>H</td>\n",
       "      <td>32</td>\n",
       "      <td>1</td>\n",
       "      <td>550</td>\n",
       "    </tr>\n",
       "    <tr>\n",
       "      <th>8</th>\n",
       "      <td>9</td>\n",
       "      <td>I</td>\n",
       "      <td>35</td>\n",
       "      <td>3</td>\n",
       "      <td>735</td>\n",
       "    </tr>\n",
       "    <tr>\n",
       "      <th>9</th>\n",
       "      <td>10</td>\n",
       "      <td>J</td>\n",
       "      <td>35</td>\n",
       "      <td>2</td>\n",
       "      <td>860</td>\n",
       "    </tr>\n",
       "  </tbody>\n",
       "</table>\n",
       "</div>"
      ],
      "text/plain": [
       "   No Nama  Umur  Masa Kerja  Gaji\n",
       "0   1    A    30           6   750\n",
       "1   2    B    48          17  1500\n",
       "2   3    C    36          14  1255\n",
       "3   4    D    37           4  1040\n",
       "4   5    E    42          12   950\n",
       "5   6    F    39          13  1600\n",
       "6   7    G    37           5  1250\n",
       "7   8    H    32           1   550\n",
       "8   9    I    35           3   735\n",
       "9  10    J    35           2   860"
      ]
     },
     "execution_count": 2,
     "metadata": {},
     "output_type": "execute_result"
    }
   ],
   "source": [
    "#read dataset\n",
    "data = pd.read_csv(\"dataset.csv\")\n",
    "data"
   ]
  },
  {
   "cell_type": "code",
   "execution_count": 5,
   "id": "a81ff157",
   "metadata": {},
   "outputs": [
    {
     "data": {
      "text/html": [
       "<div>\n",
       "<style scoped>\n",
       "    .dataframe tbody tr th:only-of-type {\n",
       "        vertical-align: middle;\n",
       "    }\n",
       "\n",
       "    .dataframe tbody tr th {\n",
       "        vertical-align: top;\n",
       "    }\n",
       "\n",
       "    .dataframe thead th {\n",
       "        text-align: right;\n",
       "    }\n",
       "</style>\n",
       "<table border=\"1\" class=\"dataframe\">\n",
       "  <thead>\n",
       "    <tr style=\"text-align: right;\">\n",
       "      <th></th>\n",
       "      <th>0</th>\n",
       "      <th>1</th>\n",
       "    </tr>\n",
       "  </thead>\n",
       "  <tbody>\n",
       "    <tr>\n",
       "      <th>0</th>\n",
       "      <td>1</td>\n",
       "      <td>30</td>\n",
       "    </tr>\n",
       "    <tr>\n",
       "      <th>1</th>\n",
       "      <td>2</td>\n",
       "      <td>48</td>\n",
       "    </tr>\n",
       "    <tr>\n",
       "      <th>2</th>\n",
       "      <td>3</td>\n",
       "      <td>36</td>\n",
       "    </tr>\n",
       "    <tr>\n",
       "      <th>3</th>\n",
       "      <td>4</td>\n",
       "      <td>37</td>\n",
       "    </tr>\n",
       "    <tr>\n",
       "      <th>4</th>\n",
       "      <td>5</td>\n",
       "      <td>42</td>\n",
       "    </tr>\n",
       "    <tr>\n",
       "      <th>5</th>\n",
       "      <td>6</td>\n",
       "      <td>39</td>\n",
       "    </tr>\n",
       "    <tr>\n",
       "      <th>6</th>\n",
       "      <td>7</td>\n",
       "      <td>37</td>\n",
       "    </tr>\n",
       "    <tr>\n",
       "      <th>7</th>\n",
       "      <td>8</td>\n",
       "      <td>32</td>\n",
       "    </tr>\n",
       "    <tr>\n",
       "      <th>8</th>\n",
       "      <td>9</td>\n",
       "      <td>35</td>\n",
       "    </tr>\n",
       "    <tr>\n",
       "      <th>9</th>\n",
       "      <td>10</td>\n",
       "      <td>35</td>\n",
       "    </tr>\n",
       "  </tbody>\n",
       "</table>\n",
       "</div>"
      ],
      "text/plain": [
       "    0   1\n",
       "0   1  30\n",
       "1   2  48\n",
       "2   3  36\n",
       "3   4  37\n",
       "4   5  42\n",
       "5   6  39\n",
       "6   7  37\n",
       "7   8  32\n",
       "8   9  35\n",
       "9  10  35"
      ]
     },
     "execution_count": 5,
     "metadata": {},
     "output_type": "execute_result"
    }
   ],
   "source": [
    "#untuk array umur\n",
    "umur = np.array(data)\n",
    "umur = umur[:,[0,2]]\n",
    "pd.DataFrame(umur)"
   ]
  },
  {
   "cell_type": "code",
   "execution_count": 6,
   "id": "aa28a009",
   "metadata": {
    "scrolled": true
   },
   "outputs": [
    {
     "data": {
      "text/html": [
       "<div>\n",
       "<style scoped>\n",
       "    .dataframe tbody tr th:only-of-type {\n",
       "        vertical-align: middle;\n",
       "    }\n",
       "\n",
       "    .dataframe tbody tr th {\n",
       "        vertical-align: top;\n",
       "    }\n",
       "\n",
       "    .dataframe thead th {\n",
       "        text-align: right;\n",
       "    }\n",
       "</style>\n",
       "<table border=\"1\" class=\"dataframe\">\n",
       "  <thead>\n",
       "    <tr style=\"text-align: right;\">\n",
       "      <th></th>\n",
       "      <th>0</th>\n",
       "      <th>1</th>\n",
       "    </tr>\n",
       "  </thead>\n",
       "  <tbody>\n",
       "    <tr>\n",
       "      <th>0</th>\n",
       "      <td>1</td>\n",
       "      <td>6</td>\n",
       "    </tr>\n",
       "    <tr>\n",
       "      <th>1</th>\n",
       "      <td>2</td>\n",
       "      <td>17</td>\n",
       "    </tr>\n",
       "    <tr>\n",
       "      <th>2</th>\n",
       "      <td>3</td>\n",
       "      <td>14</td>\n",
       "    </tr>\n",
       "    <tr>\n",
       "      <th>3</th>\n",
       "      <td>4</td>\n",
       "      <td>4</td>\n",
       "    </tr>\n",
       "    <tr>\n",
       "      <th>4</th>\n",
       "      <td>5</td>\n",
       "      <td>12</td>\n",
       "    </tr>\n",
       "    <tr>\n",
       "      <th>5</th>\n",
       "      <td>6</td>\n",
       "      <td>13</td>\n",
       "    </tr>\n",
       "    <tr>\n",
       "      <th>6</th>\n",
       "      <td>7</td>\n",
       "      <td>5</td>\n",
       "    </tr>\n",
       "    <tr>\n",
       "      <th>7</th>\n",
       "      <td>8</td>\n",
       "      <td>1</td>\n",
       "    </tr>\n",
       "    <tr>\n",
       "      <th>8</th>\n",
       "      <td>9</td>\n",
       "      <td>3</td>\n",
       "    </tr>\n",
       "    <tr>\n",
       "      <th>9</th>\n",
       "      <td>10</td>\n",
       "      <td>2</td>\n",
       "    </tr>\n",
       "  </tbody>\n",
       "</table>\n",
       "</div>"
      ],
      "text/plain": [
       "    0   1\n",
       "0   1   6\n",
       "1   2  17\n",
       "2   3  14\n",
       "3   4   4\n",
       "4   5  12\n",
       "5   6  13\n",
       "6   7   5\n",
       "7   8   1\n",
       "8   9   3\n",
       "9  10   2"
      ]
     },
     "execution_count": 6,
     "metadata": {},
     "output_type": "execute_result"
    }
   ],
   "source": [
    "#array masa kerja\n",
    "masakerja = np.array(data)\n",
    "masakerja = masakerja[:,[0,3]]\n",
    "pd.DataFrame(masakerja)"
   ]
  },
  {
   "cell_type": "code",
   "execution_count": 7,
   "id": "695024ac",
   "metadata": {},
   "outputs": [
    {
     "data": {
      "text/html": [
       "<div>\n",
       "<style scoped>\n",
       "    .dataframe tbody tr th:only-of-type {\n",
       "        vertical-align: middle;\n",
       "    }\n",
       "\n",
       "    .dataframe tbody tr th {\n",
       "        vertical-align: top;\n",
       "    }\n",
       "\n",
       "    .dataframe thead th {\n",
       "        text-align: right;\n",
       "    }\n",
       "</style>\n",
       "<table border=\"1\" class=\"dataframe\">\n",
       "  <thead>\n",
       "    <tr style=\"text-align: right;\">\n",
       "      <th></th>\n",
       "      <th>0</th>\n",
       "      <th>1</th>\n",
       "    </tr>\n",
       "  </thead>\n",
       "  <tbody>\n",
       "    <tr>\n",
       "      <th>0</th>\n",
       "      <td>1</td>\n",
       "      <td>750</td>\n",
       "    </tr>\n",
       "    <tr>\n",
       "      <th>1</th>\n",
       "      <td>2</td>\n",
       "      <td>1500</td>\n",
       "    </tr>\n",
       "    <tr>\n",
       "      <th>2</th>\n",
       "      <td>3</td>\n",
       "      <td>1255</td>\n",
       "    </tr>\n",
       "    <tr>\n",
       "      <th>3</th>\n",
       "      <td>4</td>\n",
       "      <td>1040</td>\n",
       "    </tr>\n",
       "    <tr>\n",
       "      <th>4</th>\n",
       "      <td>5</td>\n",
       "      <td>950</td>\n",
       "    </tr>\n",
       "    <tr>\n",
       "      <th>5</th>\n",
       "      <td>6</td>\n",
       "      <td>1600</td>\n",
       "    </tr>\n",
       "    <tr>\n",
       "      <th>6</th>\n",
       "      <td>7</td>\n",
       "      <td>1250</td>\n",
       "    </tr>\n",
       "    <tr>\n",
       "      <th>7</th>\n",
       "      <td>8</td>\n",
       "      <td>550</td>\n",
       "    </tr>\n",
       "    <tr>\n",
       "      <th>8</th>\n",
       "      <td>9</td>\n",
       "      <td>735</td>\n",
       "    </tr>\n",
       "    <tr>\n",
       "      <th>9</th>\n",
       "      <td>10</td>\n",
       "      <td>860</td>\n",
       "    </tr>\n",
       "  </tbody>\n",
       "</table>\n",
       "</div>"
      ],
      "text/plain": [
       "    0     1\n",
       "0   1   750\n",
       "1   2  1500\n",
       "2   3  1255\n",
       "3   4  1040\n",
       "4   5   950\n",
       "5   6  1600\n",
       "6   7  1250\n",
       "7   8   550\n",
       "8   9   735\n",
       "9  10   860"
      ]
     },
     "execution_count": 7,
     "metadata": {},
     "output_type": "execute_result"
    }
   ],
   "source": [
    "#array gaji\n",
    "gaji = np.array(data)\n",
    "gaji = gaji[:,[0,4]]\n",
    "pd.DataFrame(gaji)"
   ]
  },
  {
   "cell_type": "code",
   "execution_count": 9,
   "id": "20e15e8c",
   "metadata": {},
   "outputs": [
    {
     "name": "stdout",
     "output_type": "stream",
     "text": [
      "Umur 1 30\n",
      "Umur 2 48\n",
      "Umur 3 36\n",
      "Umur 4 37\n",
      "Umur 5 42\n",
      "Umur 6 39\n",
      "Umur 7 37\n",
      "Umur 8 32\n",
      "Umur 8 35\n",
      "Umur 10 35\n"
     ]
    }
   ],
   "source": [
    "#dapatkan data dari array\n",
    "\n",
    "#data umur\n",
    "umur1 = np.sum(umur[0:1,1], axis=0)\n",
    "umur2 = np.sum(umur[1:2,1], axis=0)\n",
    "umur3 = np.sum(umur[2:3,1], axis=0)\n",
    "umur4 = np.sum(umur[3:4,1], axis=0)\n",
    "umur5 = np.sum(umur[4:5,1], axis=0)\n",
    "umur6 = np.sum(umur[5:6,1], axis=0)\n",
    "umur7 = np.sum(umur[6:7,1], axis=0)\n",
    "umur8 = np.sum(umur[7:8,1], axis=0)\n",
    "umur9 = np.sum(umur[8:9,1], axis=0)\n",
    "umur10 = np.sum(umur[9:10,1], axis=0)\n",
    "\n",
    "print (\"Umur 1\", umur1)\n",
    "print (\"Umur 2\", umur2)\n",
    "print (\"Umur 3\", umur3)\n",
    "print (\"Umur 4\", umur4)\n",
    "print (\"Umur 5\", umur5)\n",
    "print (\"Umur 6\", umur6)\n",
    "print (\"Umur 7\", umur7)\n",
    "print (\"Umur 8\", umur8)\n",
    "print (\"Umur 8\", umur9)\n",
    "print (\"Umur 10\", umur10)"
   ]
  },
  {
   "cell_type": "code",
   "execution_count": 10,
   "id": "b8d5fc73",
   "metadata": {},
   "outputs": [
    {
     "name": "stdout",
     "output_type": "stream",
     "text": [
      "Masa Kerja 1: 6\n",
      "Masa Kerja 2: 17\n",
      "Masa Kerja 3: 14\n",
      "Masa Kerja 4: 4\n",
      "Masa Kerja 5: 12\n",
      "Masa Kerja 6: 13\n",
      "Masa Kerja 7: 5\n",
      "Masa Kerja 8: 1\n",
      "Masa Kerja 9: 3\n",
      "Masa Kerja 10: 2\n"
     ]
    }
   ],
   "source": [
    "#dapatkan data dari array\n",
    "\n",
    "#data masakerja\n",
    "masakerja1 = np.sum(masakerja[0:1,1], axis=0)\n",
    "masakerja2 = np.sum(masakerja[1:2,1], axis=0)\n",
    "masakerja3 = np.sum(masakerja[2:3,1], axis=0)\n",
    "masakerja4 = np.sum(masakerja[3:4,1], axis=0)\n",
    "masakerja5 = np.sum(masakerja[4:5,1], axis=0)\n",
    "masakerja6 = np.sum(masakerja[5:6,1], axis=0)\n",
    "masakerja7 = np.sum(masakerja[6:7,1], axis=0)\n",
    "masakerja8 = np.sum(masakerja[7:8,1], axis=0)\n",
    "masakerja9 = np.sum(masakerja[8:9,1], axis=0)\n",
    "masakerja10 = np.sum(masakerja[9:10,1], axis=0)\n",
    "\n",
    "print (\"Masa Kerja 1:\", masakerja1)\n",
    "print (\"Masa Kerja 2:\", masakerja2)\n",
    "print (\"Masa Kerja 3:\", masakerja3)\n",
    "print (\"Masa Kerja 4:\", masakerja4)\n",
    "print (\"Masa Kerja 5:\", masakerja5)\n",
    "print (\"Masa Kerja 6:\", masakerja6)\n",
    "print (\"Masa Kerja 7:\", masakerja7)\n",
    "print (\"Masa Kerja 8:\", masakerja8)\n",
    "print (\"Masa Kerja 9:\", masakerja9)\n",
    "print (\"Masa Kerja 10:\", masakerja10)"
   ]
  },
  {
   "cell_type": "code",
   "execution_count": 16,
   "id": "4e144d9c",
   "metadata": {},
   "outputs": [],
   "source": [
    "#dapatkan data dari array\n",
    "\n",
    "#data gaji\n",
    "gaji1 = np.sum(gaji[0:1,1], axis=0)\n",
    "gaji2 = np.sum(gaji[1:2,1], axis=0)\n",
    "gaji3 = np.sum(gaji[2:3,1], axis=0)\n",
    "gaji4 = np.sum(gaji[3:4,1], axis=0)\n",
    "gaji5 = np.sum(gaji[4:5,1], axis=0)\n",
    "gaji6 = np.sum(gaji[5:6,1], axis=0)\n",
    "gaji7 = np.sum(gaji[6:7,1], axis=0)\n",
    "gaji8 = np.sum(gaji[7:8,1], axis=0)\n",
    "gaji9 = np.sum(gaji[8:9,1], axis=0)\n",
    "gaji10 = np.sum(gaji[9:10,1], axis=0)\n",
    "\n",
    "print (\"Gaji 1:\", gaji1)"
   ]
  },
  {
   "cell_type": "code",
   "execution_count": 17,
   "id": "0a6cbe47",
   "metadata": {
    "scrolled": true
   },
   "outputs": [],
   "source": [
    "#definisi rentang\n",
    "x_gaji = np.arange(550, 1600, 1)\n",
    "x_masakerja = np.arange(5, 25, 1)\n",
    "x_umur = np.arange(30, 50, 1)"
   ]
  },
  {
   "cell_type": "code",
   "execution_count": 18,
   "id": "0e2169b8",
   "metadata": {
    "scrolled": true
   },
   "outputs": [],
   "source": [
    "umur_lo = fuzz.trimf(x_umur, [0, 30, 40])\n",
    "umur_mid = fuzz.trimf(x_umur, [35, 40, 45])\n",
    "umur_hight = fuzz.trimf(x_umur, [40, 45, 49])"
   ]
  },
  {
   "cell_type": "code",
   "execution_count": 19,
   "id": "cdeeb2ed",
   "metadata": {
    "scrolled": true
   },
   "outputs": [
    {
     "data": {
      "text/plain": [
       "<matplotlib.legend.Legend at 0x652ec40>"
      ]
     },
     "execution_count": 19,
     "metadata": {},
     "output_type": "execute_result"
    },
    {
     "data": {
      "image/png": "[encoded data removed]",
      "text/plain": [
       "<Figure size 432x216 with 1 Axes>"
      ]
     },
     "metadata": {
      "needs_background": "light"
     },
     "output_type": "display_data"
    }
   ],
   "source": [
    "fig, ax = plt.subplots(nrows=1, figsize=(6, 3))\n",
    "ax.plot(x_umur, umur_lo, 'b', linewidth=1.5, label='Muda')\n",
    "ax.plot(x_umur, umur_mid, 'g', linewidth=1.5, label='Parubaya')\n",
    "ax.plot(x_umur, umur_hight, 'r', linewidth=1.5, label='Tua')\n",
    "ax.set_title('Himpunan Umur')\n",
    "ax.legend()"
   ]
  },
  {
   "cell_type": "code",
   "execution_count": 21,
   "id": "073038b6",
   "metadata": {
    "scrolled": true
   },
   "outputs": [
    {
     "data": {
      "text/plain": [
       "<matplotlib.legend.Legend at 0x65b5c58>"
      ]
     },
     "execution_count": 21,
     "metadata": {},
     "output_type": "execute_result"
    },
    {
     "data": {
      "image/png": "[encoded data removed]",
      "text/plain": [
       "<Figure size 432x216 with 1 Axes>"
      ]
     },
     "metadata": {
      "needs_background": "light"
     },
     "output_type": "display_data"
    }
   ],
   "source": [
    "x_masakerja = np.arange(5, 25, 1)\n",
    "masakerja_lo = fuzz.trimf(x_masakerja, [0, 5, 15])\n",
    "masakerja_hight = fuzz.trimf(x_masakerja, [10, 25, 25])\n",
    "fig, ax1 = plt.subplots(nrows=1, figsize=(6, 3))\n",
    "ax1.plot(x_masakerja, masakerja_lo, 'b', linewidth=1.5, label='Baru')\n",
    "ax1.plot(x_masakerja, masakerja_hight, 'r', linewidth=1.5, label='Lama')\n",
    "ax1.set_title('Himpunan Masa Kerja')\n",
    "ax1.legend()"
   ]
  },
  {
   "cell_type": "code",
   "execution_count": 23,
   "id": "31338c8f",
   "metadata": {},
   "outputs": [
    {
     "data": {
      "text/plain": [
       "<matplotlib.legend.Legend at 0x66412f8>"
      ]
     },
     "execution_count": 23,
     "metadata": {},
     "output_type": "execute_result"
    },
    {
     "data": {
      "image/png": "[encoded data removed]",
      "text/plain": [
       "<Figure size 432x216 with 1 Axes>"
      ]
     },
     "metadata": {
      "needs_background": "light"
     },
     "output_type": "display_data"
    }
   ],
   "source": [
    "x_gaji = np.arange(300, 2000, 1)\n",
    "fig, ax2 = plt.subplots(nrows=1, figsize=(6, 3))\n",
    "gaji_lo = fuzz.trimf(x_gaji, [0, 300, 800])\n",
    "gaji_mid = fuzz.trimf(x_gaji, [500, 1000, 1500])\n",
    "gaji_hight = fuzz.trimf(x_gaji, [1000, 2000, 2000])\n",
    "ax2.plot(x_gaji, gaji_lo, 'b', linewidth=1.5, label='Rendah')\n",
    "ax2.plot(x_gaji, gaji_mid, 'g', linewidth=1.5, label='Sedang')\n",
    "ax2.plot(x_gaji, gaji_hight, 'r', linewidth=1.5, label='Tinggi')\n",
    "ax2.set_title('Himpunan Gaji')\n",
    "ax2.legend()"
   ]
  },
  {
   "cell_type": "code",
   "execution_count": 30,
   "id": "d0287ea4",
   "metadata": {},
   "outputs": [],
   "source": [
    "def FungsiAnggota(_rentang, _lo, _mid, _hight, _nilai):\n",
    "    lo = fuzz.interp_membership(_rentang, _lo, _nilai)\n",
    "    mid = fuzz.interp_membership(_rentang, _mid, _nilai)\n",
    "    hight = fuzz.interp_membership(_rentang, _hight, _nilai)\n",
    "    \n",
    "    return lo, mid, hight"
   ]
  },
  {
   "cell_type": "code",
   "execution_count": 37,
   "id": "48d00349",
   "metadata": {},
   "outputs": [
    {
     "name": "stdout",
     "output_type": "stream",
     "text": [
      "nilai umur 1:  (1.0, 0.0, 0.0)\n",
      "nilai umur 2:  (0.0, 0.0, 0.25)\n",
      "nilai umur 3:  (0.4, 0.2, 0.0)\n",
      "nilai umur 4:  (0.3, 0.4, 0.0)\n",
      "nilai umur 5:  (0.0, 0.6, 0.4)\n",
      "nilai umur 6:  (0.1, 0.8, 0.0)\n",
      "nilai umur 7:  (0.3, 0.4, 0.0)\n",
      "nilai umur 8:  (0.8, 0.0, 0.0)\n",
      "nilai umur 9:  (0.5, 0.0, 0.0)\n",
      "nilai umur 10:  (0.5, 0.0, 0.0)\n"
     ]
    }
   ],
   "source": [
    "aggregasi_umur_1=FungsiAnggota(x_umur, umur_lo, umur_mid, umur_hight, umur1)\n",
    "aggregasi_umur_2=FungsiAnggota(x_umur, umur_lo, umur_mid, umur_hight, umur2)\n",
    "aggregasi_umur_3=FungsiAnggota(x_umur, umur_lo, umur_mid, umur_hight, umur3)\n",
    "aggregasi_umur_4=FungsiAnggota(x_umur, umur_lo, umur_mid, umur_hight, umur4)\n",
    "aggregasi_umur_5=FungsiAnggota(x_umur, umur_lo, umur_mid, umur_hight, umur5)\n",
    "aggregasi_umur_6=FungsiAnggota(x_umur, umur_lo, umur_mid, umur_hight, umur6)\n",
    "aggregasi_umur_7=FungsiAnggota(x_umur, umur_lo, umur_mid, umur_hight, umur7)\n",
    "aggregasi_umur_8=FungsiAnggota(x_umur, umur_lo, umur_mid, umur_hight, umur8)\n",
    "aggregasi_umur_9=FungsiAnggota(x_umur, umur_lo, umur_mid, umur_hight, umur9)\n",
    "aggregasi_umur_10=FungsiAnggota(x_umur, umur_lo, umur_mid, umur_hight, umur10)\n",
    "\n",
    "print(\"nilai umur 1: \", aggregasi_umur_1)\n",
    "print(\"nilai umur 2: \", aggregasi_umur_2)\n",
    "print(\"nilai umur 3: \", aggregasi_umur_3)\n",
    "print(\"nilai umur 4: \", aggregasi_umur_4)\n",
    "print(\"nilai umur 5: \", aggregasi_umur_5)\n",
    "print(\"nilai umur 6: \", aggregasi_umur_6)\n",
    "print(\"nilai umur 7: \", aggregasi_umur_7)\n",
    "print(\"nilai umur 8: \", aggregasi_umur_8)\n",
    "print(\"nilai umur 9: \", aggregasi_umur_9)\n",
    "print(\"nilai umur 10: \", aggregasi_umur_10)"
   ]
  },
  {
   "cell_type": "code",
   "execution_count": null,
   "id": "3357f3a1",
   "metadata": {},
   "outputs": [],
   "source": []
  }
 ],
 "metadata": {
  "kernelspec": {
   "display_name": "Python 3",
   "language": "python",
   "name": "python3"
  },
  "language_info": {
   "codemirror_mode": {
    "name": "ipython",
    "version": 3
   },
   "file_extension": ".py",
   "mimetype": "text/x-python",
   "name": "python",
   "nbconvert_exporter": "python",
   "pygments_lexer": "ipython3",
   "version": "3.8.8"
  }
 },
 "nbformat": 4,
 "nbformat_minor": 5
}
